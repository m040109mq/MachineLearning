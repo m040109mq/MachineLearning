{
 "cells": [
  {
   "cell_type": "code",
   "execution_count": 1,
   "id": "c2fd3166",
   "metadata": {},
   "outputs": [],
   "source": [
    "import pandas as pd\n",
    "import numpy as np"
   ]
  },
  {
   "cell_type": "code",
   "execution_count": 2,
   "id": "a90351dd",
   "metadata": {},
   "outputs": [],
   "source": [
    "data = pd.read_csv('Orignal_Data.csv')"
   ]
  },
  {
   "cell_type": "code",
   "execution_count": 3,
   "id": "15676ed7",
   "metadata": {},
   "outputs": [
    {
     "name": "stdout",
     "output_type": "stream",
     "text": [
      "<class 'pandas.core.frame.DataFrame'>\n",
      "RangeIndex: 3768780 entries, 0 to 3768779\n",
      "Data columns (total 15 columns):\n",
      " #   Column                      Dtype  \n",
      "---  ------                      -----  \n",
      " 0   container_id                object \n",
      " 1   shipment_id                 object \n",
      " 2   production_year             float64\n",
      " 3   equipment_size              int64  \n",
      " 4   equipment_sound_status      bool   \n",
      " 5   cargo_weight_kg             int64  \n",
      " 6   parent_commodity_name       object \n",
      " 7   damage_code                 float64\n",
      " 8   work_order_id               float64\n",
      " 9   shop_id                     object \n",
      " 10  completion_date             object \n",
      " 11  repair_codes                object \n",
      " 12  move_timestamp              object \n",
      " 13  load_port_location_id       object \n",
      " 14  discharge_port_location_id  object \n",
      "dtypes: bool(1), float64(3), int64(2), object(9)\n",
      "memory usage: 406.1+ MB\n"
     ]
    }
   ],
   "source": [
    "data.info()"
   ]
  },
  {
   "cell_type": "code",
   "execution_count": 4,
   "id": "814ba606",
   "metadata": {
    "scrolled": false
   },
   "outputs": [
    {
     "data": {
      "text/html": [
       "<div>\n",
       "<style scoped>\n",
       "    .dataframe tbody tr th:only-of-type {\n",
       "        vertical-align: middle;\n",
       "    }\n",
       "\n",
       "    .dataframe tbody tr th {\n",
       "        vertical-align: top;\n",
       "    }\n",
       "\n",
       "    .dataframe thead th {\n",
       "        text-align: right;\n",
       "    }\n",
       "</style>\n",
       "<table border=\"1\" class=\"dataframe\">\n",
       "  <thead>\n",
       "    <tr style=\"text-align: right;\">\n",
       "      <th></th>\n",
       "      <th>container_id</th>\n",
       "      <th>shipment_id</th>\n",
       "      <th>production_year</th>\n",
       "      <th>equipment_size</th>\n",
       "      <th>equipment_sound_status</th>\n",
       "      <th>cargo_weight_kg</th>\n",
       "      <th>parent_commodity_name</th>\n",
       "      <th>damage_code</th>\n",
       "      <th>work_order_id</th>\n",
       "      <th>shop_id</th>\n",
       "      <th>completion_date</th>\n",
       "      <th>repair_codes</th>\n",
       "      <th>move_timestamp</th>\n",
       "      <th>load_port_location_id</th>\n",
       "      <th>discharge_port_location_id</th>\n",
       "    </tr>\n",
       "  </thead>\n",
       "  <tbody>\n",
       "    <tr>\n",
       "      <th>0</th>\n",
       "      <td>AMFU8749302</td>\n",
       "      <td>EO5MF5U6418KB</td>\n",
       "      <td>2004.0</td>\n",
       "      <td>40</td>\n",
       "      <td>True</td>\n",
       "      <td>24100</td>\n",
       "      <td>Textiles and apparel</td>\n",
       "      <td>NaN</td>\n",
       "      <td>114389387.0</td>\n",
       "      <td>Z74</td>\n",
       "      <td>2023-05-28T01:32:12.000Z</td>\n",
       "      <td>5131;1114;1117;1115;5483;1112;0008</td>\n",
       "      <td>2023-06-07T09:43:00.000Z</td>\n",
       "      <td>CNSGHY3</td>\n",
       "      <td>MYTPPTM</td>\n",
       "    </tr>\n",
       "    <tr>\n",
       "      <th>1</th>\n",
       "      <td>AMFU8766439</td>\n",
       "      <td>NaN</td>\n",
       "      <td>2005.0</td>\n",
       "      <td>40</td>\n",
       "      <td>True</td>\n",
       "      <td>0</td>\n",
       "      <td>Plastic and rubber</td>\n",
       "      <td>NaN</td>\n",
       "      <td>115005053.0</td>\n",
       "      <td>9JJ</td>\n",
       "      <td>2023-06-19T05:49:41.000Z</td>\n",
       "      <td>0915</td>\n",
       "      <td>2023-05-27T06:36:00.000Z</td>\n",
       "      <td>MYTPPTM</td>\n",
       "      <td>INJHTGT</td>\n",
       "    </tr>\n",
       "    <tr>\n",
       "      <th>2</th>\n",
       "      <td>AMFU8902068</td>\n",
       "      <td>NaN</td>\n",
       "      <td>2007.0</td>\n",
       "      <td>40</td>\n",
       "      <td>True</td>\n",
       "      <td>0</td>\n",
       "      <td>Paper</td>\n",
       "      <td>NaN</td>\n",
       "      <td>113459950.0</td>\n",
       "      <td>9TE</td>\n",
       "      <td>2023-05-08T07:27:03.000Z</td>\n",
       "      <td>0929;0915;5271</td>\n",
       "      <td>2023-03-17T16:22:00.000Z</td>\n",
       "      <td>OMSLVTM</td>\n",
       "      <td>INPPVTM</td>\n",
       "    </tr>\n",
       "    <tr>\n",
       "      <th>3</th>\n",
       "      <td>APMU100136</td>\n",
       "      <td>NaN</td>\n",
       "      <td>2002.0</td>\n",
       "      <td>20</td>\n",
       "      <td>True</td>\n",
       "      <td>0</td>\n",
       "      <td>NaN</td>\n",
       "      <td>NaN</td>\n",
       "      <td>98434172.0</td>\n",
       "      <td>2TR</td>\n",
       "      <td>2021-08-17T09:11:31.000Z</td>\n",
       "      <td>0909</td>\n",
       "      <td>NaN</td>\n",
       "      <td>NaN</td>\n",
       "      <td>NaN</td>\n",
       "    </tr>\n",
       "    <tr>\n",
       "      <th>4</th>\n",
       "      <td>APMU100460</td>\n",
       "      <td>NaN</td>\n",
       "      <td>2006.0</td>\n",
       "      <td>20</td>\n",
       "      <td>True</td>\n",
       "      <td>0</td>\n",
       "      <td>NaN</td>\n",
       "      <td>NaN</td>\n",
       "      <td>NaN</td>\n",
       "      <td>NaN</td>\n",
       "      <td>NaN</td>\n",
       "      <td>NaN</td>\n",
       "      <td>NaN</td>\n",
       "      <td>NaN</td>\n",
       "      <td>NaN</td>\n",
       "    </tr>\n",
       "  </tbody>\n",
       "</table>\n",
       "</div>"
      ],
      "text/plain": [
       "  container_id    shipment_id  production_year  equipment_size  \\\n",
       "0  AMFU8749302  EO5MF5U6418KB           2004.0              40   \n",
       "1  AMFU8766439            NaN           2005.0              40   \n",
       "2  AMFU8902068            NaN           2007.0              40   \n",
       "3   APMU100136            NaN           2002.0              20   \n",
       "4   APMU100460            NaN           2006.0              20   \n",
       "\n",
       "   equipment_sound_status  cargo_weight_kg parent_commodity_name  damage_code  \\\n",
       "0                    True            24100  Textiles and apparel          NaN   \n",
       "1                    True                0    Plastic and rubber          NaN   \n",
       "2                    True                0                 Paper          NaN   \n",
       "3                    True                0                   NaN          NaN   \n",
       "4                    True                0                   NaN          NaN   \n",
       "\n",
       "   work_order_id shop_id           completion_date  \\\n",
       "0    114389387.0     Z74  2023-05-28T01:32:12.000Z   \n",
       "1    115005053.0     9JJ  2023-06-19T05:49:41.000Z   \n",
       "2    113459950.0     9TE  2023-05-08T07:27:03.000Z   \n",
       "3     98434172.0     2TR  2021-08-17T09:11:31.000Z   \n",
       "4            NaN     NaN                       NaN   \n",
       "\n",
       "                         repair_codes            move_timestamp  \\\n",
       "0  5131;1114;1117;1115;5483;1112;0008  2023-06-07T09:43:00.000Z   \n",
       "1                                0915  2023-05-27T06:36:00.000Z   \n",
       "2                      0929;0915;5271  2023-03-17T16:22:00.000Z   \n",
       "3                                0909                       NaN   \n",
       "4                                 NaN                       NaN   \n",
       "\n",
       "  load_port_location_id discharge_port_location_id  \n",
       "0               CNSGHY3                    MYTPPTM  \n",
       "1               MYTPPTM                    INJHTGT  \n",
       "2               OMSLVTM                    INPPVTM  \n",
       "3                   NaN                        NaN  \n",
       "4                   NaN                        NaN  "
      ]
     },
     "execution_count": 4,
     "metadata": {},
     "output_type": "execute_result"
    }
   ],
   "source": [
    "data.head()"
   ]
  },
  {
   "cell_type": "code",
   "execution_count": 5,
   "id": "6c9b50eb",
   "metadata": {},
   "outputs": [
    {
     "data": {
      "text/plain": [
       "count     3768780\n",
       "unique          2\n",
       "top          True\n",
       "freq      3579477\n",
       "Name: equipment_sound_status, dtype: object"
      ]
     },
     "execution_count": 5,
     "metadata": {},
     "output_type": "execute_result"
    }
   ],
   "source": [
    "data['equipment_sound_status'].describe()"
   ]
  },
  {
   "cell_type": "code",
   "execution_count": 6,
   "id": "be0538c9",
   "metadata": {},
   "outputs": [],
   "source": [
    "#Cleaning unwanted rows to equally split in 80:20 train test data\n",
    "value_to_remove = True\n",
    "num_rows_to_remove = 3100000\n",
    "\n",
    "num_rows = len(data[data['equipment_sound_status'] == value_to_remove])\n",
    "num_rows_to_remove = min(num_rows, num_rows_to_remove)\n",
    "\n",
    "# Remove a limited number of rows with the specific value\n",
    "data = data.drop(data[data['equipment_sound_status'] == value_to_remove].index[:num_rows_to_remove])"
   ]
  },
  {
   "cell_type": "code",
   "execution_count": 7,
   "id": "9d77107c",
   "metadata": {},
   "outputs": [
    {
     "data": {
      "text/plain": [
       "count     668780\n",
       "unique         2\n",
       "top         True\n",
       "freq      479477\n",
       "Name: equipment_sound_status, dtype: object"
      ]
     },
     "execution_count": 7,
     "metadata": {},
     "output_type": "execute_result"
    }
   ],
   "source": [
    "data['equipment_sound_status'].describe()"
   ]
  },
  {
   "cell_type": "code",
   "execution_count": 8,
   "id": "39189137",
   "metadata": {},
   "outputs": [],
   "source": [
    "data.to_csv('cleaned_dpm_data.csv', index= False)"
   ]
  },
  {
   "cell_type": "code",
   "execution_count": 9,
   "id": "4e108b1e",
   "metadata": {},
   "outputs": [],
   "source": [
    "df = pd.read_csv('cleaned_dpm_data.csv')"
   ]
  },
  {
   "cell_type": "code",
   "execution_count": 10,
   "id": "548eb0c8",
   "metadata": {
    "scrolled": true
   },
   "outputs": [
    {
     "data": {
      "text/html": [
       "<div>\n",
       "<style scoped>\n",
       "    .dataframe tbody tr th:only-of-type {\n",
       "        vertical-align: middle;\n",
       "    }\n",
       "\n",
       "    .dataframe tbody tr th {\n",
       "        vertical-align: top;\n",
       "    }\n",
       "\n",
       "    .dataframe thead th {\n",
       "        text-align: right;\n",
       "    }\n",
       "</style>\n",
       "<table border=\"1\" class=\"dataframe\">\n",
       "  <thead>\n",
       "    <tr style=\"text-align: right;\">\n",
       "      <th></th>\n",
       "      <th>container_id</th>\n",
       "      <th>shipment_id</th>\n",
       "      <th>production_year</th>\n",
       "      <th>equipment_size</th>\n",
       "      <th>equipment_sound_status</th>\n",
       "      <th>cargo_weight_kg</th>\n",
       "      <th>parent_commodity_name</th>\n",
       "      <th>damage_code</th>\n",
       "      <th>work_order_id</th>\n",
       "      <th>shop_id</th>\n",
       "      <th>completion_date</th>\n",
       "      <th>repair_codes</th>\n",
       "      <th>move_timestamp</th>\n",
       "      <th>load_port_location_id</th>\n",
       "      <th>discharge_port_location_id</th>\n",
       "    </tr>\n",
       "  </thead>\n",
       "  <tbody>\n",
       "    <tr>\n",
       "      <th>0</th>\n",
       "      <td>APMU8060215</td>\n",
       "      <td>NaN</td>\n",
       "      <td>2003.0</td>\n",
       "      <td>40</td>\n",
       "      <td>False</td>\n",
       "      <td>0</td>\n",
       "      <td>Oils and fats</td>\n",
       "      <td>2.0</td>\n",
       "      <td>111076120.0</td>\n",
       "      <td>2EQ</td>\n",
       "      <td>2023-01-10T03:05:28.000Z</td>\n",
       "      <td>0005;1116;1115;0914;0928</td>\n",
       "      <td>2023-05-23T13:00:00.000Z</td>\n",
       "      <td>MYTPPTM</td>\n",
       "      <td>KRINCHJ</td>\n",
       "    </tr>\n",
       "    <tr>\n",
       "      <th>1</th>\n",
       "      <td>BMOU4155553</td>\n",
       "      <td>NaN</td>\n",
       "      <td>2008.0</td>\n",
       "      <td>40</td>\n",
       "      <td>False</td>\n",
       "      <td>25135</td>\n",
       "      <td>Miscellaneous manufactured materials</td>\n",
       "      <td>2.0</td>\n",
       "      <td>111034167.0</td>\n",
       "      <td>U03</td>\n",
       "      <td>2023-02-16T10:24:01.000Z</td>\n",
       "      <td>0003;5524</td>\n",
       "      <td>2023-05-30T02:00:00.000Z</td>\n",
       "      <td>USJAXDP</td>\n",
       "      <td>BRRIOTT</td>\n",
       "    </tr>\n",
       "    <tr>\n",
       "      <th>2</th>\n",
       "      <td>BMOU4163923</td>\n",
       "      <td>NaN</td>\n",
       "      <td>2008.0</td>\n",
       "      <td>40</td>\n",
       "      <td>False</td>\n",
       "      <td>0</td>\n",
       "      <td>Hides, fur, leather and skin</td>\n",
       "      <td>2.0</td>\n",
       "      <td>107658816.0</td>\n",
       "      <td>N90</td>\n",
       "      <td>2022-08-17T12:20:28.000Z</td>\n",
       "      <td>7892;0920;0003;0959;0928;7891</td>\n",
       "      <td>2023-04-10T18:30:00.000Z</td>\n",
       "      <td>CNNPOTN</td>\n",
       "      <td>IDJKTT1</td>\n",
       "    </tr>\n",
       "    <tr>\n",
       "      <th>3</th>\n",
       "      <td>BOIU3933150</td>\n",
       "      <td>NaN</td>\n",
       "      <td>2013.0</td>\n",
       "      <td>20</td>\n",
       "      <td>False</td>\n",
       "      <td>0</td>\n",
       "      <td>Salt, sulphur, earths and stone, plastering ma...</td>\n",
       "      <td>2.0</td>\n",
       "      <td>96419279.0</td>\n",
       "      <td>V70</td>\n",
       "      <td>2021-05-29T08:56:24.000Z</td>\n",
       "      <td>6171;0920;0927;0003;6701</td>\n",
       "      <td>2023-04-23T09:39:00.000Z</td>\n",
       "      <td>NZAKLTM</td>\n",
       "      <td>NZNELPT</td>\n",
       "    </tr>\n",
       "    <tr>\n",
       "      <th>4</th>\n",
       "      <td>BSIU2028792</td>\n",
       "      <td>NaN</td>\n",
       "      <td>2004.0</td>\n",
       "      <td>20</td>\n",
       "      <td>False</td>\n",
       "      <td>0</td>\n",
       "      <td>Plastic and rubber</td>\n",
       "      <td>2.0</td>\n",
       "      <td>114006728.0</td>\n",
       "      <td>J58</td>\n",
       "      <td>2023-05-17T21:43:04.000Z</td>\n",
       "      <td>0003;0928;6521</td>\n",
       "      <td>2023-06-01T12:02:00.000Z</td>\n",
       "      <td>CNTSTQQ</td>\n",
       "      <td>VNSGNCL</td>\n",
       "    </tr>\n",
       "  </tbody>\n",
       "</table>\n",
       "</div>"
      ],
      "text/plain": [
       "  container_id shipment_id  production_year  equipment_size  \\\n",
       "0  APMU8060215         NaN           2003.0              40   \n",
       "1  BMOU4155553         NaN           2008.0              40   \n",
       "2  BMOU4163923         NaN           2008.0              40   \n",
       "3  BOIU3933150         NaN           2013.0              20   \n",
       "4  BSIU2028792         NaN           2004.0              20   \n",
       "\n",
       "   equipment_sound_status  cargo_weight_kg  \\\n",
       "0                   False                0   \n",
       "1                   False            25135   \n",
       "2                   False                0   \n",
       "3                   False                0   \n",
       "4                   False                0   \n",
       "\n",
       "                               parent_commodity_name  damage_code  \\\n",
       "0                                      Oils and fats          2.0   \n",
       "1               Miscellaneous manufactured materials          2.0   \n",
       "2                       Hides, fur, leather and skin          2.0   \n",
       "3  Salt, sulphur, earths and stone, plastering ma...          2.0   \n",
       "4                                 Plastic and rubber          2.0   \n",
       "\n",
       "   work_order_id shop_id           completion_date  \\\n",
       "0    111076120.0     2EQ  2023-01-10T03:05:28.000Z   \n",
       "1    111034167.0     U03  2023-02-16T10:24:01.000Z   \n",
       "2    107658816.0     N90  2022-08-17T12:20:28.000Z   \n",
       "3     96419279.0     V70  2021-05-29T08:56:24.000Z   \n",
       "4    114006728.0     J58  2023-05-17T21:43:04.000Z   \n",
       "\n",
       "                    repair_codes            move_timestamp  \\\n",
       "0       0005;1116;1115;0914;0928  2023-05-23T13:00:00.000Z   \n",
       "1                      0003;5524  2023-05-30T02:00:00.000Z   \n",
       "2  7892;0920;0003;0959;0928;7891  2023-04-10T18:30:00.000Z   \n",
       "3       6171;0920;0927;0003;6701  2023-04-23T09:39:00.000Z   \n",
       "4                 0003;0928;6521  2023-06-01T12:02:00.000Z   \n",
       "\n",
       "  load_port_location_id discharge_port_location_id  \n",
       "0               MYTPPTM                    KRINCHJ  \n",
       "1               USJAXDP                    BRRIOTT  \n",
       "2               CNNPOTN                    IDJKTT1  \n",
       "3               NZAKLTM                    NZNELPT  \n",
       "4               CNTSTQQ                    VNSGNCL  "
      ]
     },
     "execution_count": 10,
     "metadata": {},
     "output_type": "execute_result"
    }
   ],
   "source": [
    "df.head()"
   ]
  },
  {
   "cell_type": "code",
   "execution_count": 11,
   "id": "751dedcb",
   "metadata": {},
   "outputs": [
    {
     "name": "stdout",
     "output_type": "stream",
     "text": [
      "0         5\n",
      "1         2\n",
      "2         6\n",
      "3         5\n",
      "4         3\n",
      "         ..\n",
      "668775    1\n",
      "668776    3\n",
      "668777    0\n",
      "668778    0\n",
      "668779    0\n",
      "Name: Count_Of_Work_Order, Length: 668780, dtype: int64\n"
     ]
    }
   ],
   "source": [
    "# Fill missing values in the 'RepairCode' column with an empty string\n",
    "df['repair_codes'].fillna('', inplace=True)\n",
    "\n",
    "# Create a new column to store the count of repair codes\n",
    "df['Count_Of_Work_Order'] = df['repair_codes'].apply(lambda x: len(str(x).split(';')) if x else 0)\n",
    "\n",
    "# Print the updated DataFrame\n",
    "print(df['Count_Of_Work_Order'])"
   ]
  },
  {
   "cell_type": "code",
   "execution_count": 12,
   "id": "c5a77b3b",
   "metadata": {},
   "outputs": [],
   "source": [
    "#Dropping unwanted attributes\n",
    "df.drop(['container_id', 'repair_codes','damage_code'], inplace = True, axis=1)"
   ]
  },
  {
   "cell_type": "code",
   "execution_count": 13,
   "id": "e0f697ca",
   "metadata": {},
   "outputs": [
    {
     "data": {
      "text/plain": [
       "Index(['shipment_id', 'production_year', 'equipment_size',\n",
       "       'equipment_sound_status', 'cargo_weight_kg', 'parent_commodity_name',\n",
       "       'work_order_id', 'shop_id', 'completion_date', 'move_timestamp',\n",
       "       'load_port_location_id', 'discharge_port_location_id',\n",
       "       'Count_Of_Work_Order'],\n",
       "      dtype='object')"
      ]
     },
     "execution_count": 13,
     "metadata": {},
     "output_type": "execute_result"
    }
   ],
   "source": [
    "df.columns"
   ]
  },
  {
   "cell_type": "code",
   "execution_count": 14,
   "id": "866b1427",
   "metadata": {},
   "outputs": [],
   "source": [
    "from sklearn.preprocessing import LabelEncoder\n",
    "\n",
    "# Assuming you have multiple categorical columns named 'category1', 'category2', 'category3' in your data\n",
    "categorical_columns = [ 'parent_commodity_name', 'shop_id', 'load_port_location_id',\n",
    "       'discharge_port_location_id']\n",
    "\n",
    "# Create an instance of LabelEncoder for each categorical column\n",
    "label_encoders = {}\n",
    "\n",
    "for column in categorical_columns:\n",
    "    label_encoders[column] = LabelEncoder()\n",
    "    label_encoders[column].fit(df[column])\n",
    "\n",
    "# Transform the categorical columns into encoded labels\n",
    "for column in categorical_columns:\n",
    "    df[column + '_encoded'] = label_encoders[column].transform(df[column])"
   ]
  },
  {
   "cell_type": "code",
   "execution_count": 15,
   "id": "24f1ea03",
   "metadata": {
    "scrolled": true
   },
   "outputs": [
    {
     "data": {
      "text/plain": [
       "count     668780\n",
       "unique         2\n",
       "top         True\n",
       "freq      479477\n",
       "Name: equipment_sound_status, dtype: object"
      ]
     },
     "execution_count": 15,
     "metadata": {},
     "output_type": "execute_result"
    }
   ],
   "source": [
    "df['equipment_sound_status'].describe()"
   ]
  },
  {
   "cell_type": "code",
   "execution_count": 16,
   "id": "d6311436",
   "metadata": {},
   "outputs": [],
   "source": [
    "df.to_csv('encoded.csv', index=False)"
   ]
  },
  {
   "cell_type": "code",
   "execution_count": 17,
   "id": "f589d737",
   "metadata": {},
   "outputs": [],
   "source": [
    "# Assigning predicted and explanatory variables\n",
    "y = df['equipment_sound_status']\n",
    "X = df.drop(['shipment_id', 'work_order_id','parent_commodity_name', 'shop_id', 'load_port_location_id',\n",
    "       'discharge_port_location_id','equipment_sound_status', 'move_timestamp','completion_date'],axis=1)"
   ]
  },
  {
   "cell_type": "code",
   "execution_count": 18,
   "id": "2e7c1bd2",
   "metadata": {
    "scrolled": true
   },
   "outputs": [
    {
     "data": {
      "text/plain": [
       "production_year                       2098\n",
       "equipment_size                           0\n",
       "cargo_weight_kg                          0\n",
       "Count_Of_Work_Order                      0\n",
       "parent_commodity_name_encoded            0\n",
       "shop_id_encoded                          0\n",
       "load_port_location_id_encoded            0\n",
       "discharge_port_location_id_encoded       0\n",
       "dtype: int64"
      ]
     },
     "execution_count": 18,
     "metadata": {},
     "output_type": "execute_result"
    }
   ],
   "source": [
    "X.isnull().sum()"
   ]
  },
  {
   "cell_type": "code",
   "execution_count": 19,
   "id": "e60d93cd",
   "metadata": {},
   "outputs": [],
   "source": [
    "X['production_year'].fillna(int(X['production_year'].median()), inplace=True)\n",
    "X['Count_Of_Work_Order'].fillna(0, inplace=True)"
   ]
  },
  {
   "cell_type": "code",
   "execution_count": 20,
   "id": "02a4cec0",
   "metadata": {},
   "outputs": [
    {
     "data": {
      "text/plain": [
       "production_year                       0\n",
       "equipment_size                        0\n",
       "cargo_weight_kg                       0\n",
       "Count_Of_Work_Order                   0\n",
       "parent_commodity_name_encoded         0\n",
       "shop_id_encoded                       0\n",
       "load_port_location_id_encoded         0\n",
       "discharge_port_location_id_encoded    0\n",
       "dtype: int64"
      ]
     },
     "execution_count": 20,
     "metadata": {},
     "output_type": "execute_result"
    }
   ],
   "source": [
    "X.isnull().sum()"
   ]
  },
  {
   "cell_type": "code",
   "execution_count": 21,
   "id": "ece687ed",
   "metadata": {
    "scrolled": true
   },
   "outputs": [
    {
     "data": {
      "text/html": [
       "<div>\n",
       "<style scoped>\n",
       "    .dataframe tbody tr th:only-of-type {\n",
       "        vertical-align: middle;\n",
       "    }\n",
       "\n",
       "    .dataframe tbody tr th {\n",
       "        vertical-align: top;\n",
       "    }\n",
       "\n",
       "    .dataframe thead th {\n",
       "        text-align: right;\n",
       "    }\n",
       "</style>\n",
       "<table border=\"1\" class=\"dataframe\">\n",
       "  <thead>\n",
       "    <tr style=\"text-align: right;\">\n",
       "      <th></th>\n",
       "      <th>0</th>\n",
       "      <th>1</th>\n",
       "      <th>2</th>\n",
       "      <th>3</th>\n",
       "      <th>4</th>\n",
       "    </tr>\n",
       "  </thead>\n",
       "  <tbody>\n",
       "    <tr>\n",
       "      <th>production_year</th>\n",
       "      <td>2003.0</td>\n",
       "      <td>2008.0</td>\n",
       "      <td>2008.0</td>\n",
       "      <td>2013.0</td>\n",
       "      <td>2004.0</td>\n",
       "    </tr>\n",
       "    <tr>\n",
       "      <th>equipment_size</th>\n",
       "      <td>40.0</td>\n",
       "      <td>40.0</td>\n",
       "      <td>40.0</td>\n",
       "      <td>20.0</td>\n",
       "      <td>20.0</td>\n",
       "    </tr>\n",
       "    <tr>\n",
       "      <th>cargo_weight_kg</th>\n",
       "      <td>0.0</td>\n",
       "      <td>25135.0</td>\n",
       "      <td>0.0</td>\n",
       "      <td>0.0</td>\n",
       "      <td>0.0</td>\n",
       "    </tr>\n",
       "    <tr>\n",
       "      <th>Count_Of_Work_Order</th>\n",
       "      <td>5.0</td>\n",
       "      <td>2.0</td>\n",
       "      <td>6.0</td>\n",
       "      <td>5.0</td>\n",
       "      <td>3.0</td>\n",
       "    </tr>\n",
       "    <tr>\n",
       "      <th>parent_commodity_name_encoded</th>\n",
       "      <td>22.0</td>\n",
       "      <td>20.0</td>\n",
       "      <td>15.0</td>\n",
       "      <td>33.0</td>\n",
       "      <td>28.0</td>\n",
       "    </tr>\n",
       "    <tr>\n",
       "      <th>shop_id_encoded</th>\n",
       "      <td>78.0</td>\n",
       "      <td>1222.0</td>\n",
       "      <td>1161.0</td>\n",
       "      <td>1238.0</td>\n",
       "      <td>1147.0</td>\n",
       "    </tr>\n",
       "    <tr>\n",
       "      <th>load_port_location_id_encoded</th>\n",
       "      <td>495.0</td>\n",
       "      <td>661.0</td>\n",
       "      <td>160.0</td>\n",
       "      <td>530.0</td>\n",
       "      <td>186.0</td>\n",
       "    </tr>\n",
       "    <tr>\n",
       "      <th>discharge_port_location_id_encoded</th>\n",
       "      <td>424.0</td>\n",
       "      <td>57.0</td>\n",
       "      <td>336.0</td>\n",
       "      <td>512.0</td>\n",
       "      <td>682.0</td>\n",
       "    </tr>\n",
       "  </tbody>\n",
       "</table>\n",
       "</div>"
      ],
      "text/plain": [
       "                                         0        1       2       3       4\n",
       "production_year                     2003.0   2008.0  2008.0  2013.0  2004.0\n",
       "equipment_size                        40.0     40.0    40.0    20.0    20.0\n",
       "cargo_weight_kg                        0.0  25135.0     0.0     0.0     0.0\n",
       "Count_Of_Work_Order                    5.0      2.0     6.0     5.0     3.0\n",
       "parent_commodity_name_encoded         22.0     20.0    15.0    33.0    28.0\n",
       "shop_id_encoded                       78.0   1222.0  1161.0  1238.0  1147.0\n",
       "load_port_location_id_encoded        495.0    661.0   160.0   530.0   186.0\n",
       "discharge_port_location_id_encoded   424.0     57.0   336.0   512.0   682.0"
      ]
     },
     "execution_count": 21,
     "metadata": {},
     "output_type": "execute_result"
    }
   ],
   "source": [
    "X.head(5).T"
   ]
  },
  {
   "cell_type": "code",
   "execution_count": 22,
   "id": "67eee5d9",
   "metadata": {},
   "outputs": [
    {
     "data": {
      "text/plain": [
       "Index(['production_year', 'equipment_size', 'cargo_weight_kg',\n",
       "       'Count_Of_Work_Order', 'parent_commodity_name_encoded',\n",
       "       'shop_id_encoded', 'load_port_location_id_encoded',\n",
       "       'discharge_port_location_id_encoded'],\n",
       "      dtype='object')"
      ]
     },
     "execution_count": 22,
     "metadata": {},
     "output_type": "execute_result"
    }
   ],
   "source": [
    "X.columns"
   ]
  },
  {
   "cell_type": "code",
   "execution_count": 23,
   "id": "91c405a0",
   "metadata": {},
   "outputs": [],
   "source": [
    "from sklearn import metrics\n",
    "from sklearn.model_selection import cross_val_score\n",
    "from sklearn.model_selection import train_test_split\n",
    "from sklearn.metrics import f1_score\n",
    "from sklearn.metrics import precision_score\n",
    "from sklearn.metrics import recall_score\n",
    "\n",
    "# Running the model\n",
    "def classify(model, X, y):\n",
    "    X_train, X_test, y_train, y_test = train_test_split(X, y, test_size=0.2, random_state=0)\n",
    "    model.fit(X_train, y_train)\n",
    "    cv_scores = cross_val_score(model, X_train, y_train, cv=5)\n",
    "    \n",
    "    \n",
    "    print('===== CV on Training Data:')\n",
    "    print('CV Array:', cv_scores)\n",
    "    print('CV Mean:', cv_scores.mean())\n",
    "    y_pred = model.predict(X_test)\n",
    "    accuracy = metrics.accuracy_score(y_test, y_pred)\n",
    "    print('===== Accuracy Score on Unseen Test Data:')\n",
    "    print('Accuracy Score:', accuracy)\n",
    "    f1 = f1_score(y_test, y_pred, average='weighted')\n",
    "    precision = precision_score(y_test, y_pred, average='weighted')\n",
    "    recall = recall_score(y_test, y_pred, average='weighted')\n",
    "    print(metrics.confusion_matrix(y_test, y_pred))\n",
    "    print('=====F1:', f1)\n",
    "    print('Precision is:',precision)\n",
    "    print('Recall is:',recall)"
   ]
  },
  {
   "cell_type": "code",
   "execution_count": 24,
   "id": "7bb6fbf0",
   "metadata": {},
   "outputs": [
    {
     "name": "stderr",
     "output_type": "stream",
     "text": [
      "C:\\Users\\hp\\anaconda3\\lib\\site-packages\\sklearn\\linear_model\\_logistic.py:458: ConvergenceWarning: lbfgs failed to converge (status=1):\n",
      "STOP: TOTAL NO. of ITERATIONS REACHED LIMIT.\n",
      "\n",
      "Increase the number of iterations (max_iter) or scale the data as shown in:\n",
      "    https://scikit-learn.org/stable/modules/preprocessing.html\n",
      "Please also refer to the documentation for alternative solver options:\n",
      "    https://scikit-learn.org/stable/modules/linear_model.html#logistic-regression\n",
      "  n_iter_i = _check_optimize_result(\n",
      "C:\\Users\\hp\\anaconda3\\lib\\site-packages\\sklearn\\linear_model\\_logistic.py:458: ConvergenceWarning: lbfgs failed to converge (status=1):\n",
      "STOP: TOTAL NO. of ITERATIONS REACHED LIMIT.\n",
      "\n",
      "Increase the number of iterations (max_iter) or scale the data as shown in:\n",
      "    https://scikit-learn.org/stable/modules/preprocessing.html\n",
      "Please also refer to the documentation for alternative solver options:\n",
      "    https://scikit-learn.org/stable/modules/linear_model.html#logistic-regression\n",
      "  n_iter_i = _check_optimize_result(\n",
      "C:\\Users\\hp\\anaconda3\\lib\\site-packages\\sklearn\\linear_model\\_logistic.py:458: ConvergenceWarning: lbfgs failed to converge (status=1):\n",
      "STOP: TOTAL NO. of ITERATIONS REACHED LIMIT.\n",
      "\n",
      "Increase the number of iterations (max_iter) or scale the data as shown in:\n",
      "    https://scikit-learn.org/stable/modules/preprocessing.html\n",
      "Please also refer to the documentation for alternative solver options:\n",
      "    https://scikit-learn.org/stable/modules/linear_model.html#logistic-regression\n",
      "  n_iter_i = _check_optimize_result(\n",
      "C:\\Users\\hp\\anaconda3\\lib\\site-packages\\sklearn\\linear_model\\_logistic.py:458: ConvergenceWarning: lbfgs failed to converge (status=1):\n",
      "STOP: TOTAL NO. of ITERATIONS REACHED LIMIT.\n",
      "\n",
      "Increase the number of iterations (max_iter) or scale the data as shown in:\n",
      "    https://scikit-learn.org/stable/modules/preprocessing.html\n",
      "Please also refer to the documentation for alternative solver options:\n",
      "    https://scikit-learn.org/stable/modules/linear_model.html#logistic-regression\n",
      "  n_iter_i = _check_optimize_result(\n",
      "C:\\Users\\hp\\anaconda3\\lib\\site-packages\\sklearn\\linear_model\\_logistic.py:458: ConvergenceWarning: lbfgs failed to converge (status=1):\n",
      "STOP: TOTAL NO. of ITERATIONS REACHED LIMIT.\n",
      "\n",
      "Increase the number of iterations (max_iter) or scale the data as shown in:\n",
      "    https://scikit-learn.org/stable/modules/preprocessing.html\n",
      "Please also refer to the documentation for alternative solver options:\n",
      "    https://scikit-learn.org/stable/modules/linear_model.html#logistic-regression\n",
      "  n_iter_i = _check_optimize_result(\n"
     ]
    },
    {
     "name": "stdout",
     "output_type": "stream",
     "text": [
      "===== CV on Training Data:\n",
      "CV Array: [0.7169665  0.71705061 0.71698519 0.71700388 0.71691712]\n",
      "CV Mean: 0.7169846585059103\n",
      "===== Accuracy Score on Unseen Test Data:\n",
      "Accuracy Score: 0.7170444690331649\n",
      "[[  306 37541]\n",
      " [  306 95603]]\n",
      "=====F1: 0.603068103833976\n",
      "Precision is: 0.6563458960261206\n",
      "Recall is: 0.7170444690331649\n"
     ]
    },
    {
     "name": "stderr",
     "output_type": "stream",
     "text": [
      "C:\\Users\\hp\\anaconda3\\lib\\site-packages\\sklearn\\linear_model\\_logistic.py:458: ConvergenceWarning: lbfgs failed to converge (status=1):\n",
      "STOP: TOTAL NO. of ITERATIONS REACHED LIMIT.\n",
      "\n",
      "Increase the number of iterations (max_iter) or scale the data as shown in:\n",
      "    https://scikit-learn.org/stable/modules/preprocessing.html\n",
      "Please also refer to the documentation for alternative solver options:\n",
      "    https://scikit-learn.org/stable/modules/linear_model.html#logistic-regression\n",
      "  n_iter_i = _check_optimize_result(\n"
     ]
    }
   ],
   "source": [
    "from sklearn.linear_model import LogisticRegression\n",
    "model = LogisticRegression()\n",
    "classify(model, X, y)"
   ]
  },
  {
   "cell_type": "code",
   "execution_count": 25,
   "id": "123755fb",
   "metadata": {},
   "outputs": [
    {
     "name": "stdout",
     "output_type": "stream",
     "text": [
      "===== CV on Training Data:\n",
      "CV Array: [0.58969207 0.5925424  0.59120602 0.59174805 0.59200591]\n",
      "CV Mean: 0.5914388897825453\n",
      "===== Accuracy Score on Unseen Test Data:\n",
      "Accuracy Score: 0.5918239181793714\n",
      "[[33733  4114]\n",
      " [50482 45427]]\n",
      "=====F1: 0.6042901385127647\n",
      "Precision is: 0.7708395551850308\n",
      "Recall is: 0.5918239181793714\n"
     ]
    }
   ],
   "source": [
    "from sklearn.naive_bayes import MultinomialNB\n",
    "model = MultinomialNB()\n",
    "classify(model, X, y)"
   ]
  },
  {
   "cell_type": "code",
   "execution_count": 26,
   "id": "08b6d4fe",
   "metadata": {},
   "outputs": [
    {
     "name": "stdout",
     "output_type": "stream",
     "text": [
      "===== CV on Training Data:\n",
      "CV Array: [0.76328209 0.76147844 0.76250642 0.76439419 0.76482188]\n",
      "CV Mean: 0.7632966026295516\n",
      "===== Accuracy Score on Unseen Test Data:\n",
      "Accuracy Score: 0.7666422440862466\n",
      "[[22779 15068]\n",
      " [16145 79764]]\n",
      "=====F1: 0.7676202854956203\n",
      "Precision is: 0.7687026732089756\n",
      "Recall is: 0.7666422440862466\n"
     ]
    }
   ],
   "source": [
    "from sklearn.tree import DecisionTreeClassifier\n",
    "model = DecisionTreeClassifier()\n",
    "classify(model, X, y)"
   ]
  },
  {
   "cell_type": "code",
   "execution_count": 27,
   "id": "c4a11cd0",
   "metadata": {},
   "outputs": [
    {
     "name": "stdout",
     "output_type": "stream",
     "text": [
      "===== CV on Training Data:\n",
      "CV Array: [0.80910238 0.80858838 0.81119574 0.8116817  0.81091361]\n",
      "CV Mean: 0.8102963616907821\n",
      "===== Accuracy Score on Unseen Test Data:\n",
      "Accuracy Score: 0.81171685756153\n",
      "[[21075 16772]\n",
      " [ 8412 87497]]\n",
      "=====F1: 0.8039601234768422\n",
      "Precision is: 0.8039400574781318\n",
      "Recall is: 0.81171685756153\n"
     ]
    }
   ],
   "source": [
    "from sklearn.ensemble import RandomForestClassifier\n",
    "\n",
    "model = RandomForestClassifier()\n",
    "classify(model, X, y)\n"
   ]
  },
  {
   "cell_type": "code",
   "execution_count": 28,
   "id": "40a2f550",
   "metadata": {},
   "outputs": [
    {
     "name": "stdout",
     "output_type": "stream",
     "text": [
      "===== CV on Training Data:\n",
      "CV Array: [0.81864399 0.81938227 0.81742909 0.82075604 0.82190385]\n",
      "CV Mean: 0.8196230492105118\n",
      "===== Accuracy Score on Unseen Test Data:\n",
      "Accuracy Score: 0.8204117946110828\n",
      "[[20597 17250]\n",
      " [ 6771 89138]]\n",
      "=====F1: 0.8106346700898054\n",
      "Precision is: 0.8137319074690893\n",
      "Recall is: 0.8204117946110828\n"
     ]
    }
   ],
   "source": [
    "from xgboost import XGBClassifier\n",
    "\n",
    "model = XGBClassifier()\n",
    "classify(model, X, y)\n"
   ]
  },
  {
   "cell_type": "markdown",
   "id": "f40bed04",
   "metadata": {},
   "source": [
    "## Testing Model with Dummy Data"
   ]
  },
  {
   "cell_type": "code",
   "execution_count": 29,
   "id": "aaf26dfd",
   "metadata": {},
   "outputs": [],
   "source": [
    "#Testing the model\n",
    "features = ['production_year', 'equipment_size', 'cargo_weight_kg',\n",
    "       'Count_Of_Work_Order', 'parent_commodity_name_encoded', 'shop_id_encoded',\n",
    "       'load_port_location_id_encoded', 'discharge_port_location_id_encoded']\n",
    "values = [[2001,20,0,11,0,246,566,3]]"
   ]
  },
  {
   "cell_type": "code",
   "execution_count": 30,
   "id": "7e0fb481",
   "metadata": {},
   "outputs": [],
   "source": [
    "dataframe1 = pd.DataFrame(data = values, columns = features)"
   ]
  },
  {
   "cell_type": "code",
   "execution_count": 31,
   "id": "bbdcee13",
   "metadata": {},
   "outputs": [
    {
     "data": {
      "text/html": [
       "<div>\n",
       "<style scoped>\n",
       "    .dataframe tbody tr th:only-of-type {\n",
       "        vertical-align: middle;\n",
       "    }\n",
       "\n",
       "    .dataframe tbody tr th {\n",
       "        vertical-align: top;\n",
       "    }\n",
       "\n",
       "    .dataframe thead th {\n",
       "        text-align: right;\n",
       "    }\n",
       "</style>\n",
       "<table border=\"1\" class=\"dataframe\">\n",
       "  <thead>\n",
       "    <tr style=\"text-align: right;\">\n",
       "      <th></th>\n",
       "      <th>0</th>\n",
       "    </tr>\n",
       "  </thead>\n",
       "  <tbody>\n",
       "    <tr>\n",
       "      <th>production_year</th>\n",
       "      <td>2001</td>\n",
       "    </tr>\n",
       "    <tr>\n",
       "      <th>equipment_size</th>\n",
       "      <td>20</td>\n",
       "    </tr>\n",
       "    <tr>\n",
       "      <th>cargo_weight_kg</th>\n",
       "      <td>0</td>\n",
       "    </tr>\n",
       "    <tr>\n",
       "      <th>Count_Of_Work_Order</th>\n",
       "      <td>11</td>\n",
       "    </tr>\n",
       "    <tr>\n",
       "      <th>parent_commodity_name_encoded</th>\n",
       "      <td>0</td>\n",
       "    </tr>\n",
       "    <tr>\n",
       "      <th>shop_id_encoded</th>\n",
       "      <td>246</td>\n",
       "    </tr>\n",
       "    <tr>\n",
       "      <th>load_port_location_id_encoded</th>\n",
       "      <td>566</td>\n",
       "    </tr>\n",
       "    <tr>\n",
       "      <th>discharge_port_location_id_encoded</th>\n",
       "      <td>3</td>\n",
       "    </tr>\n",
       "  </tbody>\n",
       "</table>\n",
       "</div>"
      ],
      "text/plain": [
       "                                       0\n",
       "production_year                     2001\n",
       "equipment_size                        20\n",
       "cargo_weight_kg                        0\n",
       "Count_Of_Work_Order                   11\n",
       "parent_commodity_name_encoded          0\n",
       "shop_id_encoded                      246\n",
       "load_port_location_id_encoded        566\n",
       "discharge_port_location_id_encoded     3"
      ]
     },
     "execution_count": 31,
     "metadata": {},
     "output_type": "execute_result"
    }
   ],
   "source": [
    "dataframe1.head().T"
   ]
  },
  {
   "cell_type": "code",
   "execution_count": 32,
   "id": "9eb3a734",
   "metadata": {},
   "outputs": [],
   "source": [
    "y_pred = model.predict(dataframe1)"
   ]
  },
  {
   "cell_type": "code",
   "execution_count": 33,
   "id": "fe80d369",
   "metadata": {},
   "outputs": [
    {
     "name": "stdout",
     "output_type": "stream",
     "text": [
      "[0]\n"
     ]
    }
   ],
   "source": [
    "print(y_pred)"
   ]
  },
  {
   "cell_type": "code",
   "execution_count": null,
   "id": "ad6055b1",
   "metadata": {},
   "outputs": [],
   "source": []
  }
 ],
 "metadata": {
  "kernelspec": {
   "display_name": "Python 3 (ipykernel)",
   "language": "python",
   "name": "python3"
  },
  "language_info": {
   "codemirror_mode": {
    "name": "ipython",
    "version": 3
   },
   "file_extension": ".py",
   "mimetype": "text/x-python",
   "name": "python",
   "nbconvert_exporter": "python",
   "pygments_lexer": "ipython3",
   "version": "3.9.13"
  },
  "toc": {
   "base_numbering": 1,
   "nav_menu": {},
   "number_sections": true,
   "sideBar": true,
   "skip_h1_title": false,
   "title_cell": "Table of Contents",
   "title_sidebar": "Contents",
   "toc_cell": false,
   "toc_position": {},
   "toc_section_display": true,
   "toc_window_display": false
  },
  "varInspector": {
   "cols": {
    "lenName": 16,
    "lenType": 16,
    "lenVar": 40
   },
   "kernels_config": {
    "python": {
     "delete_cmd_postfix": "",
     "delete_cmd_prefix": "del ",
     "library": "var_list.py",
     "varRefreshCmd": "print(var_dic_list())"
    },
    "r": {
     "delete_cmd_postfix": ") ",
     "delete_cmd_prefix": "rm(",
     "library": "var_list.r",
     "varRefreshCmd": "cat(var_dic_list()) "
    }
   },
   "types_to_exclude": [
    "module",
    "function",
    "builtin_function_or_method",
    "instance",
    "_Feature"
   ],
   "window_display": false
  }
 },
 "nbformat": 4,
 "nbformat_minor": 5
}
